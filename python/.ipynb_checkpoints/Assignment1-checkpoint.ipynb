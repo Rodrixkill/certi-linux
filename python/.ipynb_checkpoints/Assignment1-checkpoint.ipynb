{
 "cells": [
  {
   "cell_type": "code",
   "execution_count": null,
   "metadata": {},
   "outputs": [],
   "source": [
    "1. Escriba un programa que lea un entero(input) lo multiplique por 3 y lo imprima"
   ]
  },
  {
   "cell_type": "code",
   "execution_count": 1,
   "metadata": {},
   "outputs": [
    {
     "name": "stdout",
     "output_type": "stream",
     "text": [
      "Ingrese un numero entero5\n",
      "15\n"
     ]
    }
   ],
   "source": [
    "number=input(\"Ingrese un numero entero\")\n",
    "print(int(number)*3)"
   ]
  },
  {
   "cell_type": "code",
   "execution_count": null,
   "metadata": {},
   "outputs": [],
   "source": [
    "2. Escribir un programa que pida al cliente la longitud y ancho de la habitación e\n",
    "imprima la superficie de la habitación, los valores podrán tener decimales.\n",
    "Formato de salida deseado: xx.yy m^2"
   ]
  },
  {
   "cell_type": "code",
   "execution_count": 1,
   "metadata": {},
   "outputs": [
    {
     "name": "stdout",
     "output_type": "stream",
     "text": [
      "Cual es la longitud de su habitacion? 12\n",
      "Cual es el ancho de su habitacion? 12\n",
      "144.0  m^2\n"
     ]
    }
   ],
   "source": [
    "longitud=input(\"Cual es la longitud de su habitacion? \")\n",
    "ancho=input(\"Cual es el ancho de su habitacion? \")\n",
    "salida=float(longitud)*float(ancho)\n",
    "print(salida,\" m^2\")"
   ]
  },
  {
   "cell_type": "code",
   "execution_count": null,
   "metadata": {},
   "outputs": [],
   "source": [
    "3. Determinar el área y volumen de un cilindro cuyas dimensiones (radio - altura) se lean\n",
    "desde el teclado."
   ]
  },
  {
   "cell_type": "code",
   "execution_count": 5,
   "metadata": {},
   "outputs": [
    {
     "name": "stdout",
     "output_type": "stream",
     "text": [
      "Ingrese el radio del cilindro 5\n",
      "Ingrese la altura del cilindro 10\n",
      "1570.7963267948967\n",
      "471.23889803846896\n"
     ]
    }
   ],
   "source": [
    "import math\n",
    "radio=input(\"Ingrese el radio del cilindro \")\n",
    "altura=input(\"Ingrese la altura del cilindro \")\n",
    "area=2*math.pi*float(radio)*(float(radio)+float(altura))\n",
    "volumen=2*math.pi*pow(float(radio),2)*float(altura)\n",
    "print(\"el volumen es \",volumen,\" m^3\")\n",
    "print(\"su area es \",area,\" m^2\")"
   ]
  },
  {
   "cell_type": "code",
   "execution_count": null,
   "metadata": {},
   "outputs": [],
   "source": [
    "4.La fuerza de atracción entre dos masas m1 y m2 separadas por una distancia d, está\n",
    "dada por la fórmula:\n",
    "\n",
    "\n",
    "\n",
    "Donde G es la constante de gravitación universal:\n",
    "    G = 6.673X10^-8 cm / g * seg\n",
    "\n",
    "\n",
    "Escriba un programa que lea la masa de dos cuerpos y la distancia entre ellos y a\n",
    "continuación obtenga la fuerza gravitacional entre ella. La salida debe ser en dinas; un\n",
    "DINA es igual a g*cm/seg2\n",
    ".\n",
    "\n",
    "Formato de salida deseado: xx.yy dyn"
   ]
  },
  {
   "cell_type": "code",
   "execution_count": 4,
   "metadata": {},
   "outputs": [
    {
     "name": "stdout",
     "output_type": "stream",
     "text": [
      "Inserte masa 1 en gramos 10312\n",
      "Inserte masa 2 en gramos 123\n",
      "Inserte la distancia en cm1\n",
      "0.08 g*cm/seg^2\n"
     ]
    }
   ],
   "source": [
    "import math\n",
    "m1=input(\"Inserte masa 1 en gramos \")\n",
    "m2=input(\"Inserte masa 2 en gramos \")\n",
    "d=input(\"Inserte la distancia en cm\")\n",
    "result=(float(m1)*float(m2)*0.00000006673)/pow(float(d),2)\n",
    "print(\"%.2f g*cm/seg^2\"%result)"
   ]
  },
  {
   "cell_type": "code",
   "execution_count": 3,
   "metadata": {},
   "outputs": [
    {
     "ename": "SyntaxError",
     "evalue": "invalid syntax (<ipython-input-3-f7226e695be8>, line 1)",
     "output_type": "error",
     "traceback": [
      "\u001b[0;36m  File \u001b[0;32m\"<ipython-input-3-f7226e695be8>\"\u001b[0;36m, line \u001b[0;32m1\u001b[0m\n\u001b[0;31m    5. La famosa ecuación de Einstein para conversión de una masa m en energía viene dada\u001b[0m\n\u001b[0m        ^\u001b[0m\n\u001b[0;31mSyntaxError\u001b[0m\u001b[0;31m:\u001b[0m invalid syntax\n"
     ]
    }
   ],
   "source": [
    "5. La famosa ecuación de Einstein para conversión de una masa m en energía viene dada\n",
    "por la fórmula\n",
    "\n",
    "     E = c X m^3 seg\n",
    "Escribir un programa que lea una masa en gramos y obtenga la cantidad de energía\n",
    "producida cuando la masa se convierta en energía.\n",
    "Nota: se la masa se da en gramos, la fórmula produce la energía en ergios.\n",
    "Formato de salida deseado: xx.yy erg"
   ]
  },
  {
   "cell_type": "code",
   "execution_count": 5,
   "metadata": {},
   "outputs": [
    {
     "name": "stdout",
     "output_type": "stream",
     "text": [
      "Inserte la masa en gramos 15\n",
      "101179968750000.00 erg\n"
     ]
    }
   ],
   "source": [
    "import math\n",
    "#creo que se equivoco con la formula pero aca esta con la que puso\n",
    "masa=input(\"Inserte la masa en gramos \")\n",
    "result= 2.997925*pow(10,10)*pow(float(masa),3)\n",
    "print(\"%.2f erg\"%result)"
   ]
  },
  {
   "cell_type": "code",
   "execution_count": null,
   "metadata": {},
   "outputs": [],
   "source": [
    "6 Escribir un programa que lea la hora en un día de notación 24 horas y escriba la\n",
    "respuesta en notación de 12 horas. Por ejemplo, si la entrada es 13:45, la salida será:\n",
    "\n",
    "1:45 PM\n",
    "\n",
    "El programa pedirá al usuario que introduzca exactamente cinco caracteres. Así, por\n",
    "ejemplo, las nueve en punto se introduce como:\n",
    "09:00"
   ]
  },
  {
   "cell_type": "code",
   "execution_count": 12,
   "metadata": {},
   "outputs": [
    {
     "name": "stdout",
     "output_type": "stream",
     "text": [
      "Ingrese su hora actual: 10:00\n",
      "10:00 AM\n"
     ]
    }
   ],
   "source": [
    "hora=input(\"Ingrese su hora actual: \")\n",
    "if int(hora[0:2])>12:\n",
    "    print(int(hora[0:2])-12,hora[2:],\"PM\",sep=\"\")\n",
    "else:\n",
    "    print(hora,\"AM\")"
   ]
  },
  {
   "cell_type": "code",
   "execution_count": null,
   "metadata": {},
   "outputs": [],
   "source": [
    "7. Leer un número A, evaluar sucesivamente las expresiones siguientes y desplegar los\n",
    "resultados obtenidos en un archivo denominado “practica01.out”.\n",
    "B = A + 10\n",
    "C = 2 * B + A\n",
    "D = A + B + C + 5\n",
    "Formato de salida deseado:\n",
    "Ejercicio 9.\n",
    "A = xx\n",
    "B = yy\n",
    "C = zz\n",
    "D = xyz"
   ]
  },
  {
   "cell_type": "code",
   "execution_count": 50,
   "metadata": {},
   "outputs": [
    {
     "name": "stdout",
     "output_type": "stream",
     "text": [
      "Ingresa el numero que desees: 10\n"
     ]
    }
   ],
   "source": [
    "a=input(\"Ingresa el numero que desees: \")\n",
    "ap=float(a)\n",
    "b= float(a)+10\n",
    "c=2*b+ap\n",
    "d=ap+b+c+5\n",
    "file=open(\"practica01.out\",\"w\")\n",
    "file.write(\"A=\"+str(ap)+\"\\nB=\"+str(b)+\"\\nC=\"+str(c)+\"\\nD=\"+str(d))\n",
    "file.close()"
   ]
  },
  {
   "cell_type": "code",
   "execution_count": null,
   "metadata": {},
   "outputs": [],
   "source": [
    "8. Hacer leer un número X de tipo decimal, hallar su valor absoluto y decimal, desplegar\n",
    "el resultado dentro del archivo “practica01.out”.\n",
    "Formato de salida deseado:\n",
    "Ejercicio 8.\n",
    "Número: xx.yy\n",
    "Valor absoluto: xx\n",
    "Parte decimal: yy"
   ]
  },
  {
   "cell_type": "code",
   "execution_count": 7,
   "metadata": {},
   "outputs": [
    {
     "name": "stdout",
     "output_type": "stream",
     "text": [
      "Ingrese un numero decimal: 10.512\n",
      "Numero: 10.51\n",
      "Valor absoluto:  10\n",
      "Parte decimal:  512\n"
     ]
    }
   ],
   "source": [
    "import math\n",
    "x = input(\"Ingrese un numero decimal: \")\n",
    "print(\"Numero: %.2f\"%float(x))\n",
    "x = str(x).split(\".\")\n",
    "\n",
    "print(\"Valor absoluto: \",abs(int(x[0])))\n",
    "print(\"Parte decimal: \",x[1])"
   ]
  },
  {
   "cell_type": "code",
   "execution_count": null,
   "metadata": {},
   "outputs": [],
   "source": [
    "9. Leer a, b, c y d, hallar el menor y mayor de los cuatro números, desplegar su resultado\n",
    "en el archivo “practica01.out”."
   ]
  },
  {
   "cell_type": "code",
   "execution_count": 44,
   "metadata": {},
   "outputs": [
    {
     "name": "stdout",
     "output_type": "stream",
     "text": [
      "Maximo de la lista: 85.0\n",
      "Minimo de la lista: 10.0\n",
      "\n"
     ]
    }
   ],
   "source": [
    "file=open(\"practica01.out\",\"r\")\n",
    "values=file.read()\n",
    "a=values[values.index(\"A\")+2:values.index(\"B\")]\n",
    "b=values[values.index(\"B\")+2:values.index(\"C\")]\n",
    "c=values[values.index(\"C\")+2:values.index(\"D\")]\n",
    "d=values[values.index(\"D\")+2:]\n",
    "list=[a,b,c,d]\n",
    "print(\"Maximo de la lista:\",max(list))\n",
    "print(\"Minimo de la lista:\",min(list))\n"
   ]
  },
  {
   "cell_type": "code",
   "execution_count": null,
   "metadata": {},
   "outputs": [],
   "source": [
    "10. Dado los valores de X, Y, Z, evaluar A = X^2+Y^2+Z^2. Si se cumple que, A<100 y Y<5\n",
    "calcular B = (X+Y)^2 – X*Z, caso contrario calcular B = (X-Y)^2 + X*Z. Desplegar A y B\n",
    "en el archivo “practica01.out”"
   ]
  },
  {
   "cell_type": "code",
   "execution_count": 49,
   "metadata": {},
   "outputs": [
    {
     "name": "stdout",
     "output_type": "stream",
     "text": [
      "Ingrese el valor x: 5\n",
      "Ingrese el valor y: 5\n",
      "Ingrese el valor z: 5\n"
     ]
    }
   ],
   "source": [
    "x=input(\"Ingrese el valor x: \")\n",
    "y=input(\"Ingrese el valor y: \")\n",
    "z=input(\"Ingrese el valor z: \")\n",
    "first=pow(float(x),2)+pow(float(y),2)+pow(float(z),2)\n",
    "if first<100 and int(y)<5:\n",
    "    second = pow((float(x)+float(y)),2)-(float(x)*float(z))\n",
    "else:\n",
    "    second = pow((float(x)-float(y)),2)+(float(x)*float(z))\n",
    "    \n",
    "file=open(\"practica01.out\",\"w\")\n",
    "file.write(\"A=\"+str(first)+\"\\nB=\"+str(second))\n",
    "file.close()\n",
    "    \n",
    "    "
   ]
  },
  {
   "cell_type": "code",
   "execution_count": null,
   "metadata": {},
   "outputs": [],
   "source": []
  }
 ],
 "metadata": {
  "kernelspec": {
   "display_name": "Python 3",
   "language": "python",
   "name": "python3"
  },
  "language_info": {
   "codemirror_mode": {
    "name": "ipython",
    "version": 3
   },
   "file_extension": ".py",
   "mimetype": "text/x-python",
   "name": "python",
   "nbconvert_exporter": "python",
   "pygments_lexer": "ipython3",
   "version": "3.7.4"
  }
 },
 "nbformat": 4,
 "nbformat_minor": 2
}
