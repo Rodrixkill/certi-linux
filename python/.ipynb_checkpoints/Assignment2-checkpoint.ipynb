{
 "cells": [
  {
   "cell_type": "code",
   "execution_count": null,
   "metadata": {},
   "outputs": [],
   "source": [
    "21. Escribir un programa que determine si el año es bisiesto. Un año es bisiesto si es\n",
    "múltiplo de 4 (1988), excepto los múltiplos de 100 que no son bisiestos salvo que a su\n",
    "vez también sean múltiplos de 400 ( 1800 no es bisiesto, 2000 sí)."
   ]
  },
  {
   "cell_type": "code",
   "execution_count": 2,
   "metadata": {},
   "outputs": [
    {
     "name": "stdout",
     "output_type": "stream",
     "text": [
      "Ingrese un anho: 2000\n",
      "2000 es un anho bisiesto.\n"
     ]
    }
   ],
   "source": [
    "anho=int(input(\"Ingrese un anho: \"))\n",
    "if anho%100==0:\n",
    "    if anho%400==0:\n",
    "        print(anho,\"es un anho bisiesto.\")\n",
    "    else:\n",
    "        print(anho,\"no es un anho bisiesto\")\n",
    "elif anho%4==0:\n",
    "    print(anho,\"es un anho bisiesto.\")\n",
    "else:\n",
    "    print(anho,\"no es un anho bisiesto\")\n",
    "    "
   ]
  },
  {
   "cell_type": "code",
   "execution_count": null,
   "metadata": {},
   "outputs": [],
   "source": [
    "22. Dado los valores de A, B, C que son los coeficientes de la ecuación de segundo grado,\n",
    "hallar sus raíces reales, desplegar los resultados.$"
   ]
  },
  {
   "cell_type": "code",
   "execution_count": 10,
   "metadata": {},
   "outputs": [
    {
     "name": "stdout",
     "output_type": "stream",
     "text": [
      "Ingrese el valor A2\n",
      "Ingrese el valor B8\n",
      "Ingrese el valor C2\n",
      "48.0\n",
      "Primera raiz -0.2679491924311228 , Segunda raiz -3.732050807568877\n"
     ]
    }
   ],
   "source": [
    "import math\n",
    "a=float(input(\"Ingrese el valor A\"))\n",
    "b=float(input(\"Ingrese el valor B\"))\n",
    "c=float(input(\"Ingrese el valor C\"))\n",
    "value=(b**2)-(4*a*c)\n",
    "#print(value)\n",
    "if value < 0:\n",
    "    print(\"No tiene raices reales\")\n",
    "else:\n",
    "    result1= -(b)/(2*a) + math.sqrt(((b**2)-(4*a*c)))/(2*a)\n",
    "    result2= -(b)/(2*a) - math.sqrt(((b**2)-(4*a*c)))/(2*a)\n",
    "    print(\"Primera raiz\",result1,\", Segunda raiz\",result2)"
   ]
  },
  {
   "cell_type": "code",
   "execution_count": 11,
   "metadata": {},
   "outputs": [
    {
     "ename": "SyntaxError",
     "evalue": "invalid syntax (<ipython-input-11-929f5c7b126a>, line 1)",
     "output_type": "error",
     "traceback": [
      "\u001b[0;36m  File \u001b[0;32m\"<ipython-input-11-929f5c7b126a>\"\u001b[0;36m, line \u001b[0;32m1\u001b[0m\n\u001b[0;31m    23. Dado dos valores A y B, realizar el producto de los dos números por sumas sucesivas,\u001b[0m\n\u001b[0m           ^\u001b[0m\n\u001b[0;31mSyntaxError\u001b[0m\u001b[0;31m:\u001b[0m invalid syntax\n"
     ]
    }
   ],
   "source": [
    "23. Dado dos valores A y B, realizar el producto de los dos números por sumas sucesivas,\n",
    "almacenar el resultado en una variable P, mostrar el resultado."
   ]
  },
  {
   "cell_type": "code",
   "execution_count": 12,
   "metadata": {},
   "outputs": [
    {
     "name": "stdout",
     "output_type": "stream",
     "text": [
      "ingrese el valor A2\n",
      "ingrese el valor B5\n",
      "10\n"
     ]
    }
   ],
   "source": [
    "a=int(input(\"ingrese el valor A \"))\n",
    "b=int(input(\"ingrese el valor B \"))\n",
    "result=0\n",
    "i=1\n",
    "while i<=b:\n",
    "    result+=a\n",
    "    i+=1\n",
    "print(result)"
   ]
  },
  {
   "cell_type": "code",
   "execution_count": null,
   "metadata": {},
   "outputs": [],
   "source": [
    "24. Dado un número X, determinar el número de dígitos del que esta compuesto y\n",
    "desplegar el resultado."
   ]
  },
  {
   "cell_type": "code",
   "execution_count": 20,
   "metadata": {},
   "outputs": [
    {
     "name": "stdout",
     "output_type": "stream",
     "text": [
      "Introduce un numero 100\n",
      "3\n"
     ]
    }
   ],
   "source": [
    "x=int(input(\"Introduce un numero \"))\n",
    "digitos=0\n",
    "while x>0:\n",
    "    x = int(x/10)\n",
    "   \n",
    "    digitos+=1\n",
    "print(digitos)"
   ]
  },
  {
   "cell_type": "code",
   "execution_count": null,
   "metadata": {},
   "outputs": [],
   "source": [
    "25. Escribir un programa que calcule y visualice el más grande, el más pequeño y la media\n",
    "de N números. El valor de N se solicitará al principio del programa y los números\n",
    "serán introducidos por el usuario."
   ]
  },
  {
   "cell_type": "code",
   "execution_count": 21,
   "metadata": {},
   "outputs": [
    {
     "name": "stdout",
     "output_type": "stream",
     "text": [
      "Ingrese la cantidad de numeros que quiere ingresar5\n",
      "Ingrese un numero123\n",
      "Ingrese un numero12\n",
      "Ingrese un numero15\n",
      "Ingrese un numero100\n",
      "Ingrese un numero50\n",
      "valor maximo 123, valor minimo 12, valor medio 60.0\n"
     ]
    }
   ],
   "source": [
    "n=int(input(\"Ingrese la cantidad de numeros que quiere ingresar\"))\n",
    "i=0\n",
    "val=list()\n",
    "while i<n:\n",
    "    num=int(input(\"Ingrese un numero\"))\n",
    "    val.append(num)\n",
    "    i+=1\n",
    "maxi=max(val)\n",
    "mini=min(val)\n",
    "media=sum(val)/len(val)\n",
    "print(f\"valor maximo {maxi}, valor minimo {mini}, valor medio {media}\")"
   ]
  },
  {
   "cell_type": "code",
   "execution_count": null,
   "metadata": {},
   "outputs": [],
   "source": [
    "26. Dado dos números A y B enteros mayores a cero, hallar A^B por sumas. Desplegar los\n",
    "números y el resultado."
   ]
  },
  {
   "cell_type": "code",
   "execution_count": 5,
   "metadata": {},
   "outputs": [
    {
     "name": "stdout",
     "output_type": "stream",
     "text": [
      "Ingrese A: un numero mayor a 0 3\n",
      "Ingrese B: un numero mayor a 0 3\n",
      "El resulta de A^B 27\n"
     ]
    }
   ],
   "source": [
    "a=int(input(\"Ingrese A: un numero mayor a 0 \"))\n",
    "b=int(input(\"Ingrese B: un numero mayor a 0 \"))\n",
    "\n",
    "while a<1 or b<1:\n",
    "    a=int(input(\"Ingrese A: un numero mayor a 0 \"))\n",
    "    b=int(input(\"Ingrese B: un numero mayor a 0 \"))\n",
    "\n",
    "\n",
    "def my_function(objetivo,num):\n",
    "    j=1\n",
    "    result=0\n",
    "    while j<=num:\n",
    "        result+=objetivo\n",
    "        j+=1\n",
    "    return result\n",
    "i=2\n",
    "final=a\n",
    "while i<=b:\n",
    "    numb=my_function(final,a)\n",
    "    final=numb\n",
    "    i+=1\n",
    "print(\"El resulta de A^B\",final)\n",
    "    "
   ]
  },
  {
   "cell_type": "code",
   "execution_count": null,
   "metadata": {},
   "outputs": [],
   "source": [
    "27. La constante pi (3.1441592...) es muy utilizada en matemáticas. Un método sencillo\n",
    "de calcular su valor es:\n",
    "\n",
    "Escribir un programa que efectúe este cálculo con un número de términos\n",
    "especificando por el usuario."
   ]
  },
  {
   "cell_type": "code",
   "execution_count": 14,
   "metadata": {},
   "outputs": [
    {
     "name": "stdout",
     "output_type": "stream",
     "text": [
      "Con que precision quiere hallar pi?: 10000000\n",
      "3.1415928106682633\n"
     ]
    }
   ],
   "source": [
    "pi=int(input(\"Con que precision quiere hallar pi?: \"))\n",
    "while pi<1:\n",
    "    pi=int(input(\"Con que precision quiere hallar pi?: \"))\n",
    "    \n",
    "par=2\n",
    "impar=1\n",
    "\n",
    "changeP=0\n",
    "changeI=1\n",
    "\n",
    "result=2\n",
    "for i in range(1,pi):\n",
    "    if changeP>1:\n",
    "        changeP=1\n",
    "        par+=2\n",
    "    else:\n",
    "        changeP+=1\n",
    "    if changeI>1:\n",
    "        changeI=1\n",
    "        impar+=2\n",
    "    else:\n",
    "        changeI+=1\n",
    "    result=result*(par/impar)\n",
    "print(result)"
   ]
  },
  {
   "cell_type": "code",
   "execution_count": null,
   "metadata": {},
   "outputs": [],
   "source": [
    "28. El valor de e^x se puede aproximar por la suma\n",
    "\n",
    "Escribir un programa que tome un valor de x como entrada y visualice la suma para\n",
    "cada uno de los valores de 1 a 100."
   ]
  },
  {
   "cell_type": "code",
   "execution_count": 20,
   "metadata": {},
   "outputs": [
    {
     "name": "stdout",
     "output_type": "stream",
     "text": [
      "Hallar el valor de e^x aproximadamente\n",
      "Inserte X 5\n",
      "Inserte N 5\n",
      "91.41666666666667\n"
     ]
    }
   ],
   "source": [
    "print(\"Hallar el valor de e^x aproximadamente\")\n",
    "x=int(input(\"Inserte X \"))\n",
    "n=int(input(\"Inserte N \"))\n",
    "result=1+x\n",
    "\n",
    "def factorial(n):\n",
    "    fact = 1\n",
    "    for i in range(1,n+1): \n",
    "        fact = fact * i\n",
    "    return fact\n",
    "        \n",
    "for i in range(2,n+1):\n",
    "    result+= (x**i/factorial(i))\n",
    "    \n",
    "print(result)"
   ]
  },
  {
   "cell_type": "code",
   "execution_count": null,
   "metadata": {},
   "outputs": [],
   "source": [
    "29. Calcular la suma de todos los elementos de un vector, así como la media aritmética."
   ]
  },
  {
   "cell_type": "code",
   "execution_count": 10,
   "metadata": {},
   "outputs": [
    {
     "name": "stdout",
     "output_type": "stream",
     "text": [
      "ingrese una lista de elementos separados por comas12,35,12\n",
      "La suma de todos los elementos es = 59\n",
      "La media de todos los elementos es = 19.666666666666668\n",
      "\n",
      "Otros ejemplos\n",
      "Listas anidadas 3 9 23 Listas no anidadas 61\n"
     ]
    }
   ],
   "source": [
    "x=input(\"ingrese una lista de elementos separados por comas\")\n",
    "#inserte los datos de la siguiente manera= 12,16,90,64 por ejemplo\n",
    "x=x.split(\",\")\n",
    "x=[int(i) for i in x]\n",
    "print(f\"La suma de todos los elementos es = {sum(x)}\")\n",
    "media=sum(x)/len(x)\n",
    "print(f\"La media de todos los elementos es = {media}\")\n",
    "\n",
    "print(\"\")\n",
    "print(\"Otros ejemplos\")\n",
    "\n",
    "lista1 = [ [1, 2], [5, 4], [12, 11] ]\n",
    "print(\"Listas anidadas\",end=\" \")\n",
    "for l in lista1:\n",
    "    print(sum(l),end=\" \")\n",
    "    \n",
    "lista2= [5,21,23,12]\n",
    "print(\"Listas no anidadas\",sum(lista2))"
   ]
  },
  {
   "cell_type": "code",
   "execution_count": null,
   "metadata": {},
   "outputs": [],
   "source": [
    "30. Multiplicar dos matrices."
   ]
  },
  {
   "cell_type": "code",
   "execution_count": 5,
   "metadata": {},
   "outputs": [
    {
     "name": "stdout",
     "output_type": "stream",
     "text": [
      "Ingrese el tamanho de la matriz x: 3\n",
      "Ingrese el tamanho de la matriz y: 2\n",
      "Ingrese 0,0: 1\n",
      "Ingrese 0,1: 2\n",
      "Ingrese 1,0: 0\n",
      "Ingrese 1,1: -1\n",
      "Ingrese 2,0: 0\n",
      "Ingrese 2,1: 1\n",
      "Ingrese el tamanho de la matriz x: 2\n",
      "Ingrese el tamanho de la matriz y: 3\n",
      "Ingrese 0,0: 0\n",
      "Ingrese 0,1: 3\n",
      "Ingrese 0,2: 0\n",
      "Ingrese 1,0: 3\n",
      "Ingrese 1,1: 0\n",
      "Ingrese 1,2: 3\n",
      "[[ 6.  3.  6.]\n",
      " [-3.  0. -3.]\n",
      " [ 3.  0.  3.]]\n"
     ]
    }
   ],
   "source": [
    "import numpy\n",
    "x=int(input(\"Ingrese el tamanho de la matriz x: \"))\n",
    "y=int(input(\"Ingrese el tamanho de la matriz y: \"))\n",
    "val=numpy.zeros(shape=(x,y))\n",
    "for i in range(x):\n",
    "    for j in range(y):\n",
    "        new=int(input(f\"Ingrese {i},{j}: \"))\n",
    "        val[i][j]=new\n",
    "\n",
    "x1=int(input(\"Ingrese el tamanho de la matriz x: \"))\n",
    "y1=int(input(\"Ingrese el tamanho de la matriz y: \"))\n",
    "val1=numpy.zeros(shape=(x1,y1))\n",
    "for i in range(x1):\n",
    "    for j in range(y1):\n",
    "        new1=int(input(f\"Ingrese {i},{j}: \"))\n",
    "        val1[i][j]=new1\n",
    "mayorx=x1\n",
    "mayory=y1\n",
    "if x>x1:\n",
    "    mayorx=x\n",
    "if y>y1:\n",
    "    mayory=y\n",
    "    \n",
    "\n",
    "result=numpy.zeros(shape=(mayorx,mayory))\n",
    "\n",
    "X = [[1,2],\n",
    "    [0 ,-1],\n",
    "    [0 ,1]]\n",
    "\n",
    "Y = [[0,3,0],\n",
    "    [3,0,3]]\n",
    "\n",
    "\n",
    "\n",
    "for i in range(len(val)):\n",
    "    for j in range(len(val1[0])):\n",
    "        for k in range(len(val1)):\n",
    "            result[i][j] += val[i][k] * val1[k][j]\n",
    "\n",
    "print(result)"
   ]
  },
  {
   "cell_type": "code",
   "execution_count": null,
   "metadata": {},
   "outputs": [],
   "source": []
  }
 ],
 "metadata": {
  "kernelspec": {
   "display_name": "Python 3",
   "language": "python",
   "name": "python3"
  },
  "language_info": {
   "codemirror_mode": {
    "name": "ipython",
    "version": 3
   },
   "file_extension": ".py",
   "mimetype": "text/x-python",
   "name": "python",
   "nbconvert_exporter": "python",
   "pygments_lexer": "ipython3",
   "version": "3.7.4"
  }
 },
 "nbformat": 4,
 "nbformat_minor": 2
}
